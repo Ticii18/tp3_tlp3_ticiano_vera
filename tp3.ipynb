{
 "cells": [
  {
   "cell_type": "markdown",
   "id": "498731c6",
   "metadata": {},
   "source": [
    "# Trabajo Practico n3 - Trabajando con Lists y Sets.\n",
    "## Criterios de evaluación.\n",
    "\n",
    "* Se deben utilizar nombres de variables descriptivos y claros (Utilizar la nomeclatura correspondiente para los nombres de variables).\n",
    "* Comentarios claros y concisos que expliquen el propósito de cada sección del código.\n",
    "* Utilizar mensajes de commit **descriptivos**. (Puedes utilizar la extension CONVENTIONAL COMMIT de VS-CODE). \n",
    "* Entrega en tiempo y forma.\n",
    "* Todo el código desarrollado debe ser subido a un repositorio en GitHub (el nombre del repositorio de seguir la siguiente estructura: tp3_tlp3_nombre_apellido).\n",
    "* Para resolver las actividades se debe insertar casillas de codigo entre cada actividad del cuaderno de Jupyter\n",
    "* El repositorio de GitHub debe incluir un archivo README.md con las instrucciones necesarias para la correcta ejecución del código.\n",
    "\n",
    "### ¡Importante!\n",
    "**El incumplimiento de los criterios de evaluación restará puntos en la nota final del práctico!**"
   ]
  },
  {
   "cell_type": "markdown",
   "id": "b361a7b6",
   "metadata": {},
   "source": [
    "### Actividad 1: \n",
    "Suma de todos los elementos de una lista, utilizando bucles repetitivos (for, while)."
   ]
  },
  {
   "cell_type": "code",
   "execution_count": null,
   "id": "26009294",
   "metadata": {},
   "outputs": [],
   "source": [
    "\n",
    "# todo:\n",
    "\n",
    "numbers = [14, 23, 34, 48, 85]\n",
    "suma=0\n",
    "\n",
    "for numeros in numbers:\n",
    "    suma+=numeros\n",
    "\n",
    "print(f\"La suma de los números es: {suma}\")\n"
   ]
  },
  {
   "cell_type": "markdown",
   "id": "0c239195",
   "metadata": {},
   "source": [
    "### Actividad 2: \n",
    "Encontrar el número más grande en una lista, utilizando bucles repetitivos (for, while)."
   ]
  },
  {
   "cell_type": "code",
   "execution_count": null,
   "id": "3611d25a",
   "metadata": {},
   "outputs": [],
   "source": [
    "\n",
    "# todo:\n",
    "\n",
    "from random import randint\n",
    "random_numbers =[randint(1, 100) for i in range(5)]\n",
    "\n",
    "\n",
    "print(f\"Lista generada: {random_numbers}\")\n",
    "\n",
    "num_maximo = random_numbers[0] #Iniciaamos con el primer elemento de la lista\n",
    "for num in random_numbers:\n",
    "    if num>num_maximo:\n",
    "        num_maximo = num\n",
    "\n",
    "print(f\"El número máximo es: {num_maximo}\")\n",
    "\n",
    "\n"
   ]
  },
  {
   "cell_type": "markdown",
   "id": "70a24b97",
   "metadata": {},
   "source": [
    "### Actividad 3:\n",
    "Contar cuántas veces aparece un número específico. Utiliza estructuras repetitivas para la resolucion de este ejercicio. "
   ]
  },
  {
   "cell_type": "code",
   "execution_count": null,
   "id": "a9c8ebc7",
   "metadata": {},
   "outputs": [],
   "source": [
    "\n",
    "# todo:\n",
    "\n",
    "from random import randint, choice\n",
    "\n",
    "lists = [randint(1, 200) for i in range(20)]\n",
    "objetivo = choice(lists) #número aleatorio de la lista\n",
    "lista_ordenada = sorted(lists) #ordenamos la lista para ver mas comodo la lista\n",
    "print(f\"Lista ordenada: {lista_ordenada}\")\n",
    "print(objetivo)\n",
    "print(lists)\n",
    "\n",
    "contador = 0\n",
    "\n",
    "for numero in lists: \n",
    "    if numero == objetivo: #comparamos el número de la lista con el objetivo\n",
    "        contador += 1 #incrementamos el contador si el número coincide con el objetivo\n",
    "    \n",
    "print(f\"El número {objetivo} aparece {contador} veces.\")"
   ]
  },
  {
   "cell_type": "markdown",
   "id": "b8dac397",
   "metadata": {},
   "source": [
    "### Actividad 4: \n",
    "Invertir una lista sin usar reverse() ni [::-1]"
   ]
  },
  {
   "cell_type": "code",
   "execution_count": null,
   "id": "d04fd492",
   "metadata": {},
   "outputs": [],
   "source": [
    "\n",
    "# todo:\n",
    "\n",
    "lists_two = [randint(1, 50) for i in range(8)]\n",
    "\n",
    "print(f\"Lista original: {lists_two}\")\n",
    "\n",
    "lista_invertida_while = []\n",
    "\n",
    "i = len(lists_two) - 1 # recorre la lista de atras hacia adelante\n",
    "while i >= 0:\n",
    "    lista_invertida_while.append(lists_two[i])  \n",
    "    i -= 1 # decrementa el índice\n",
    "\n",
    "print(f\"Lista invertida usando while: {lista_invertida_while}\")"
   ]
  },
  {
   "cell_type": "markdown",
   "id": "8889d0f2",
   "metadata": {},
   "source": [
    "### Actividad 5:\n",
    "Sumar los elementos de dos listas posición por posición, utilizando solo bucles repetititivos (for,while)."
   ]
  },
  {
   "cell_type": "code",
   "execution_count": null,
   "id": "bc0ec844",
   "metadata": {},
   "outputs": [],
   "source": [
    "\n",
    "# todo:\n",
    "\n",
    "lists_one = [ 2,4,6,7,8 ]\n",
    "lists_two = [ 1,3,5,9,10 ]\n",
    "\n",
    "resultado=[]\n",
    "\n",
    "for i in range(len(lists_one)):\n",
    "    suma = lists_one[i] + lists_two[i]\n",
    "    resultado.append(suma)\n",
    "\n",
    "print(f\"Resultado de la suma de listas: {resultado}\")"
   ]
  },
  {
   "cell_type": "markdown",
   "id": "8ce33e6b",
   "metadata": {},
   "source": [
    "### Actividad 6:\n",
    "\n",
    "Escribir un programa que almacene el abecedario en una lista, elimine de la lista las letras que ocupen posiciones múltiplos de 3, y muestre por pantalla la lista resultante."
   ]
  },
  {
   "cell_type": "code",
   "execution_count": null,
   "id": "b07326e2",
   "metadata": {},
   "outputs": [],
   "source": [
    "\n",
    "# todo:\n",
    "abecedario = list(\"abcdefghijklmnopqrstuvwxyz\")\n",
    "resultado = []\n",
    "\n",
    "for i in range(len(abecedario)):\n",
    "    if (i+1) %3 != 0:\n",
    "        resultado.append(abecedario[i])\n",
    "\n",
    "print(f\"Abecedario original: {abecedario}\")\n",
    "print(f\"Abecedario sin multiplo de 3: {resultado}\")"
   ]
  },
  {
   "cell_type": "markdown",
   "id": "5bfeb4b5",
   "metadata": {},
   "source": [
    "### Actividad 7:\n",
    "\n",
    "Escribir un programa que pida al usuario una palabra y muestre por pantalla si es un palíndromo (una palabra que se escribe de la misma forma al derecho y al reves)."
   ]
  },
  {
   "cell_type": "code",
   "execution_count": null,
   "id": "2365afcc",
   "metadata": {},
   "outputs": [],
   "source": [
    "\n",
    "# todo:\n",
    "\n",
    "palabra = input(\"Ingrese una palabra\")\n",
    "\n",
    "palabra = palabra.lower().replace(\" \", \"\") #convertimos a minusculas y eliminamos los espacios\n",
    "\n",
    "es_palindromo = True \n",
    "\n",
    "for i in range(len(palabra) // 2):\n",
    "    if palabra[i] != palabra[len(palabra) -1 - i]: #comparamos el primer y último elemento\n",
    "        es_palindromo = False\n",
    "        break\n",
    "\n",
    "if es_palindromo:\n",
    "    print(f\"*{palabra}* es un palíndromo\") \n",
    "else:\n",
    "    print(f\"*{palabra}* no es un palíndromo\")"
   ]
  },
  {
   "cell_type": "markdown",
   "id": "ed8b51be",
   "metadata": {},
   "source": [
    "### Actividad 8:\n",
    "\n",
    "Teniendo en cuenta el conjunto 1 y el conjunto 2, sin usar el operador de intersección &, calcular la intersección de dichos conjuntos."
   ]
  },
  {
   "cell_type": "code",
   "execution_count": 1,
   "id": "21a434b9",
   "metadata": {},
   "outputs": [
    {
     "name": "stdout",
     "output_type": "stream",
     "text": [
      "la intersección de los conjuntos es: {3, 4}\n"
     ]
    }
   ],
   "source": [
    "# todo:\n",
    "conjunto1 = {1, 2, 3, 4}\n",
    "conjunto2 = {3, 4, 5, 6}\n",
    "interseccion = set()\n",
    "\n",
    "for elemento in conjunto1:\n",
    "    if elemento in conjunto2:\n",
    "        interseccion.add(elemento)\n",
    "\n",
    "print(f\"la intersección de los conjuntos es: {interseccion}\")"
   ]
  },
  {
   "cell_type": "markdown",
   "id": "31b460dc",
   "metadata": {},
   "source": [
    "### Actividad 9:\n",
    "Eliminar duplicados de una lista usando un set."
   ]
  },
  {
   "cell_type": "code",
   "execution_count": 2,
   "id": "0ef62008",
   "metadata": {},
   "outputs": [
    {
     "name": "stdout",
     "output_type": "stream",
     "text": [
      "Lista original: [1, 2, 2, 3, 4, 4, 5]\n",
      "Lista sin duplicados: [1, 2, 3, 4, 5]\n"
     ]
    }
   ],
   "source": [
    "\n",
    "# todo:\n",
    "lista = [1, 2, 2, 3, 4, 4, 5]\n",
    "lista_sin_duplicados = list(set(lista)) #convertimos a conjunto y luego a lista para eliminar duplicados\n",
    "\n",
    "print(f\"Lista original: {lista}\")\n",
    "print(f\"Lista sin duplicados: {lista_sin_duplicados}\")\n",
    "\n"
   ]
  },
  {
   "cell_type": "markdown",
   "id": "075f1f2c",
   "metadata": {},
   "source": [
    "### Actividad 10:\n",
    "\n",
    "Escribir un programa que cree 2 matrices y realice su multiplicacion."
   ]
  },
  {
   "cell_type": "code",
   "execution_count": 8,
   "id": "4c1fd0e1",
   "metadata": {},
   "outputs": [
    {
     "name": "stdout",
     "output_type": "stream",
     "text": [
      "Matriz 1:\n",
      "[10, 5]\n",
      "[6, 7]\n",
      "[7, 4]\n",
      "[3, 3]\n",
      "Matriz 2:\n",
      "[3, 6, 7, 5]\n",
      "[2, 7, 1, 1]\n",
      "Resultado de la multiplicación de matrices:\n",
      "[40, 95, 75, 55]\n",
      "[32, 85, 49, 37]\n",
      "[29, 70, 53, 39]\n",
      "[15, 39, 24, 18]\n"
     ]
    }
   ],
   "source": [
    "from random import randint\n",
    "\n",
    "# Solicitar tamaño de la primera matriz\n",
    "filas1 = int(input(\"Ingrese el número de filas de la primera matriz: \"))\n",
    "columnas1 = int(input(\"Ingrese el número de columnas de la primera matriz: \"))\n",
    "\n",
    "# Solicitar tamaño de la segunda matriz\n",
    "filas2 = int(input(\"Ingrese el número de filas de la segunda matriz: \"))\n",
    "columnas2 = int(input(\"Ingrese el número de columnas de la segunda matriz: \"))\n",
    "\n",
    "# Validar que la multiplicación sea posible\n",
    "if columnas1 != filas2:\n",
    "    print(\"Error: La multiplicación no es posible. El número de columnas de la primera matriz debe ser igual al número de filas de la segunda matriz.\")\n",
    "else:\n",
    "    # Generar matrices con números aleatorios\n",
    "    matriz1 = [[randint(1, 10) for _ in range(columnas1)] for _ in range(filas1)]\n",
    "    matriz2 = [[randint(1, 10) for _ in range(columnas2)] for _ in range(filas2)]\n",
    "\n",
    "    # Mostrar matrices generadas\n",
    "    print(\"Matriz 1:\")\n",
    "    for fila in matriz1:\n",
    "        print(fila)\n",
    "\n",
    "    print(\"Matriz 2:\")\n",
    "    for fila in matriz2:\n",
    "        print(fila)\n",
    "\n",
    "    # Multiplicación de matrices\n",
    "    resultado = [[0] * columnas2 for _ in range(filas1)]\n",
    "\n",
    "    for i in range(filas1):\n",
    "        for j in range(columnas2):\n",
    "            for k in range(columnas1):\n",
    "                resultado[i][j] += matriz1[i][k] * matriz2[k][j]\n",
    "\n",
    "    # Mostrar resultado\n",
    "    print(\"Resultado de la multiplicación de matrices:\")\n",
    "    for fila in resultado:\n",
    "        print(fila)\n"
   ]
  }
 ],
 "metadata": {
  "kernelspec": {
   "display_name": "Python 3",
   "language": "python",
   "name": "python3"
  },
  "language_info": {
   "codemirror_mode": {
    "name": "ipython",
    "version": 3
   },
   "file_extension": ".py",
   "mimetype": "text/x-python",
   "name": "python",
   "nbconvert_exporter": "python",
   "pygments_lexer": "ipython3",
   "version": "3.13.2"
  }
 },
 "nbformat": 4,
 "nbformat_minor": 5
}
